{
  "nbformat": 4,
  "nbformat_minor": 0,
  "metadata": {
    "kernelspec": {
      "display_name": "Python 3 (ipykernel)",
      "language": "python",
      "name": "python3"
    },
    "language_info": {
      "codemirror_mode": {
        "name": "ipython",
        "version": 3
      },
      "file_extension": ".py",
      "mimetype": "text/x-python",
      "name": "python",
      "nbconvert_exporter": "python",
      "pygments_lexer": "ipython3",
      "version": "3.9.7"
    },
    "colab": {
      "name": "Assignment+Using+Keras.ipynb",
      "provenance": [],
      "toc_visible": true,
      "include_colab_link": true
    }
  },
  "cells": [
    {
      "cell_type": "markdown",
      "metadata": {
        "id": "view-in-github",
        "colab_type": "text"
      },
      "source": [
        "<a href=\"https://colab.research.google.com/github/vvattipallly/ML/blob/main/Assignment%2BUsing%2BKeras.ipynb\" target=\"_parent\"><img src=\"https://colab.research.google.com/assets/colab-badge.svg\" alt=\"Open In Colab\"/></a>"
      ]
    },
    {
      "cell_type": "markdown",
      "metadata": {
        "id": "HvwkhtfROvX5"
      },
      "source": [
        "In this assignment, you'll implement a L-layer deep model on MNIST dataset using Keras. The MNIST dataset contains tens of thousands of scanned images of handwritten digits, together with their correct classifications. MNIST's name comes from the fact that it is a modified subset of two data sets collected by NIST, the United States' National Institute of Standards and Technology.<br>\n",
        "<br>\n",
        "<br>\n",
        "To use Keras, you'll need to install Keras and Tensorflow.\n",
        "<br>\n",
        "Please run the following commands if you don't have Keras and TensorFlow already installed.\n",
        "<br>\n",
        "1. ! pip install TensorFlow\n",
        "<br>\n",
        "2. ! pip install keras\n",
        "<br>\n",
        "3. ! pip install msgpack\n"
      ]
    },
    {
      "cell_type": "code",
      "metadata": {
        "id": "OV6CktFXOvX8"
      },
      "source": [
        "import numpy as np\n",
        "import pickle\n",
        "import gzip\n",
        "import matplotlib.pyplot as plt\n",
        "import pandas as pd\n",
        "import numpy as np\n",
        "import matplotlib.pyplot as plt\n",
        "import h5py\n",
        "import sklearn\n",
        "import sklearn.datasets\n",
        "import scipy\n",
        "\n",
        "from PIL import Image\n",
        "from scipy import ndimage\n",
        "\n",
        "from keras.models import Sequential\n",
        "from keras.layers import Dense, Dropout, BatchNormalization, Activation\n",
        "from keras import regularizers\n",
        "\n",
        "np.random.seed(7)\n",
        "\n",
        "\n",
        "%matplotlib inline"
      ],
      "execution_count": 33,
      "outputs": []
    },
    {
      "cell_type": "markdown",
      "metadata": {
        "id": "5LTNeoKFOvX8"
      },
      "source": [
        "The MNIST dataset we use here is 'mnist.pkl.gz' which is divided into training, validation and test data. The following function <i> load_data() </i> unpacks the file and extracts the training, validation and test data."
      ]
    },
    {
      "cell_type": "code",
      "metadata": {
        "id": "pcosqWTcOvX8"
      },
      "source": [
        "def load_data():\n",
        "    f = gzip.open('/content/mnist.pkl.gz', 'rb')\n",
        "    f.seek(0)\n",
        "    training_data, validation_data, test_data = pickle.load(f, encoding='latin1')\n",
        "    f.close()\n",
        "    return (training_data, validation_data, test_data)"
      ],
      "execution_count": 34,
      "outputs": []
    },
    {
      "cell_type": "markdown",
      "metadata": {
        "id": "iNLC38z9OvX8"
      },
      "source": [
        "Let's see how the data looks:"
      ]
    },
    {
      "cell_type": "code",
      "metadata": {
        "id": "_5gIDwsfOvX8"
      },
      "source": [
        "training_data, validation_data, test_data = load_data()"
      ],
      "execution_count": 35,
      "outputs": []
    },
    {
      "cell_type": "code",
      "metadata": {
        "id": "ZhXxSYUbOvX9",
        "colab": {
          "base_uri": "https://localhost:8080/"
        },
        "outputId": "50bf9d0c-daa0-4938-ee73-45f24415caae"
      },
      "source": [
        "training_data"
      ],
      "execution_count": 36,
      "outputs": [
        {
          "output_type": "execute_result",
          "data": {
            "text/plain": [
              "(array([[0., 0., 0., ..., 0., 0., 0.],\n",
              "        [0., 0., 0., ..., 0., 0., 0.],\n",
              "        [0., 0., 0., ..., 0., 0., 0.],\n",
              "        ...,\n",
              "        [0., 0., 0., ..., 0., 0., 0.],\n",
              "        [0., 0., 0., ..., 0., 0., 0.],\n",
              "        [0., 0., 0., ..., 0., 0., 0.]], dtype=float32),\n",
              " array([5, 0, 4, ..., 8, 4, 8]))"
            ]
          },
          "metadata": {},
          "execution_count": 36
        }
      ]
    },
    {
      "cell_type": "code",
      "metadata": {
        "id": "LeRAYeagOvX9",
        "colab": {
          "base_uri": "https://localhost:8080/"
        },
        "outputId": "b40d79ee-f12c-486b-c704-a2ff25e8b848"
      },
      "source": [
        "print(\"The feature dataset is:\" + str(training_data[0]))\n",
        "print(\"The target dataset is:\" + str(training_data[1]))\n",
        "print(\"The number of examples in the training dataset is:\" + str(len(training_data[0])))\n",
        "print(\"The number of points in a single input is:\" + str(len(training_data[0][1])))"
      ],
      "execution_count": 37,
      "outputs": [
        {
          "output_type": "stream",
          "name": "stdout",
          "text": [
            "The feature dataset is:[[0. 0. 0. ... 0. 0. 0.]\n",
            " [0. 0. 0. ... 0. 0. 0.]\n",
            " [0. 0. 0. ... 0. 0. 0.]\n",
            " ...\n",
            " [0. 0. 0. ... 0. 0. 0.]\n",
            " [0. 0. 0. ... 0. 0. 0.]\n",
            " [0. 0. 0. ... 0. 0. 0.]]\n",
            "The target dataset is:[5 0 4 ... 8 4 8]\n",
            "The number of examples in the training dataset is:50000\n",
            "The number of points in a single input is:784\n"
          ]
        }
      ]
    },
    {
      "cell_type": "markdown",
      "metadata": {
        "id": "wsVRgSpNOvX9"
      },
      "source": [
        "Now, as discussed earlier in the lectures, the target variable is converted to a one hot matrix. We use the function <i> one_hot </i> to convert the target dataset to one hot encoding."
      ]
    },
    {
      "cell_type": "code",
      "metadata": {
        "id": "UDq_BgemOvX9"
      },
      "source": [
        "def one_hot(j):\n",
        "    # input is the target dataset of shape (1, m) where m is the number of data points\n",
        "    # returns a 2 dimensional array of shape (10, m) where each target value is converted to a one hot encoding\n",
        "    # Look at the next block of code for a better understanding of one hot encoding\n",
        "    n = j.shape[0]\n",
        "    new_array = np.zeros((10, n))\n",
        "    index = 0\n",
        "    for res in j:\n",
        "        new_array[res][index] = 1.0\n",
        "        index = index + 1\n",
        "    return new_array"
      ],
      "execution_count": 38,
      "outputs": []
    },
    {
      "cell_type": "code",
      "metadata": {
        "id": "zK1j_XPNOvX9",
        "colab": {
          "base_uri": "https://localhost:8080/"
        },
        "outputId": "80eb2d4d-597d-484b-8427-7271fb86d468"
      },
      "source": [
        "data = np.array([0, 1, 2, 3, 4, 5, 6, 7, 8, 9])\n",
        "one_hot(data)"
      ],
      "execution_count": 39,
      "outputs": [
        {
          "output_type": "execute_result",
          "data": {
            "text/plain": [
              "array([[1., 0., 0., 0., 0., 0., 0., 0., 0., 0.],\n",
              "       [0., 1., 0., 0., 0., 0., 0., 0., 0., 0.],\n",
              "       [0., 0., 1., 0., 0., 0., 0., 0., 0., 0.],\n",
              "       [0., 0., 0., 1., 0., 0., 0., 0., 0., 0.],\n",
              "       [0., 0., 0., 0., 1., 0., 0., 0., 0., 0.],\n",
              "       [0., 0., 0., 0., 0., 1., 0., 0., 0., 0.],\n",
              "       [0., 0., 0., 0., 0., 0., 1., 0., 0., 0.],\n",
              "       [0., 0., 0., 0., 0., 0., 0., 1., 0., 0.],\n",
              "       [0., 0., 0., 0., 0., 0., 0., 0., 1., 0.],\n",
              "       [0., 0., 0., 0., 0., 0., 0., 0., 0., 1.]])"
            ]
          },
          "metadata": {},
          "execution_count": 39
        }
      ]
    },
    {
      "cell_type": "code",
      "metadata": {
        "id": "Ofekq4ToOvX9"
      },
      "source": [
        "def data_wrapper():\n",
        "    tr_d, va_d, te_d = load_data()\n",
        "    \n",
        "    training_inputs = np.array(tr_d[0][:]).T\n",
        "    training_results = np.array(tr_d[1][:])\n",
        "    train_set_y = one_hot(training_results)\n",
        "    \n",
        "    validation_inputs = np.array(va_d[0][:]).T\n",
        "    validation_results = np.array(va_d[1][:])\n",
        "    validation_set_y = one_hot(validation_results)\n",
        "    \n",
        "    test_inputs = np.array(te_d[0][:]).T\n",
        "    test_results = np.array(te_d[1][:])\n",
        "    test_set_y = one_hot(test_results)\n",
        "    \n",
        "    return (training_inputs, train_set_y, validation_inputs, validation_set_y)"
      ],
      "execution_count": 40,
      "outputs": []
    },
    {
      "cell_type": "code",
      "metadata": {
        "id": "DPcQUzNTOvX9"
      },
      "source": [
        "train_set_x, train_set_y, test_set_x, test_set_y = data_wrapper()"
      ],
      "execution_count": 41,
      "outputs": []
    },
    {
      "cell_type": "markdown",
      "metadata": {
        "id": "NNWFPH5fOvX-"
      },
      "source": [
        "For implementing in Keras, the input training and input target dataset are supposed to have shape (m, n) where m is the number of training samples and n is the number of parts in a single input.\n",
        "<br> Hence, let create the desired dataset shapes by taking transpose."
      ]
    },
    {
      "cell_type": "code",
      "metadata": {
        "id": "otryA9rUOvX-"
      },
      "source": [
        "train_set_x = train_set_x.T\n",
        "train_set_y = train_set_y.T\n",
        "test_set_x = test_set_x.T\n",
        "test_set_y = test_set_y.T"
      ],
      "execution_count": 42,
      "outputs": []
    },
    {
      "cell_type": "markdown",
      "metadata": {
        "id": "pZROClu3OvX-"
      },
      "source": [
        "Now, let's see if the datasets are in the desired shape:"
      ]
    },
    {
      "cell_type": "code",
      "metadata": {
        "id": "mzGwH50gOvX-",
        "colab": {
          "base_uri": "https://localhost:8080/"
        },
        "outputId": "d6666b63-ec62-4473-dbde-5ffd9fdbce37"
      },
      "source": [
        "print (\"train_set_x shape: \" + str(train_set_x.shape))\n",
        "print (\"train_set_y shape: \" + str(train_set_y.shape))\n",
        "print (\"test_set_x shape: \" + str(test_set_x.shape))\n",
        "print (\"test_set_y shape: \" + str(test_set_y.shape))"
      ],
      "execution_count": 43,
      "outputs": [
        {
          "output_type": "stream",
          "name": "stdout",
          "text": [
            "train_set_x shape: (50000, 784)\n",
            "train_set_y shape: (50000, 10)\n",
            "test_set_x shape: (10000, 784)\n",
            "test_set_y shape: (10000, 10)\n"
          ]
        }
      ]
    },
    {
      "cell_type": "markdown",
      "metadata": {
        "id": "IHGWeFVOOvX-"
      },
      "source": [
        "Now let us visualise the dataset. Feel free to change the index to see if the training data has been correctly tagged."
      ]
    },
    {
      "cell_type": "code",
      "metadata": {
        "id": "5nJ_DYslOvX-",
        "colab": {
          "base_uri": "https://localhost:8080/",
          "height": 298
        },
        "outputId": "7bd6c489-c793-43fa-ae91-614a9be612e7"
      },
      "source": [
        "index  = 1000\n",
        "k = train_set_x[index,:]\n",
        "k = k.reshape((28, 28))\n",
        "plt.title('Label is {label}'.format(label= training_data[1][index]))\n",
        "plt.imshow(k, cmap='gray')"
      ],
      "execution_count": 44,
      "outputs": [
        {
          "output_type": "execute_result",
          "data": {
            "text/plain": [
              "<matplotlib.image.AxesImage at 0x7f9eeb78c110>"
            ]
          },
          "metadata": {},
          "execution_count": 44
        },
        {
          "output_type": "display_data",
          "data": {
            "image/png": "[encoded data removed]",
            "text/plain": [
              "<Figure size 432x288 with 1 Axes>"
            ]
          },
          "metadata": {
            "needs_background": "light"
          }
        }
      ]
    },
    {
      "cell_type": "markdown",
      "metadata": {
        "id": "jnMb31gZOvX-"
      },
      "source": [
        "Keras is a framework. So, to implement a neural network model in Keras, we first create an instance of Sequential(). <br>\n",
        "The Sequential model is a linear stack of layers. We then keep adding Dense layers that are fully connected layers as we desire.<br><br>\n",
        "We have included Dropout using <i> nn_model.add(Dropout(0.3)) </i> <br><br>\n",
        "We can also include regularization using the command <br> <i> nn_model.add(Dense(21, activation='relu', kernel_regularizer=regularizers.l2(0.01))) </i> <br>instead of <br> <i> nn_model.add(Dense(21, activation='relu')) </i>"
      ]
    },
    {
      "cell_type": "code",
      "metadata": {
        "id": "a_1bUZWtOvX-"
      },
      "source": [
        "# create model\n",
        "nn_model = Sequential()\n",
        "nn_model.add(Dense(35, input_dim=784, activation='relu'))\n",
        "nn_model.add(Dropout(0.3))\n",
        "nn_model.add(Dense(21, activation = 'relu'))\n",
        "nn_model.add(Dense(10, activation='softmax'))"
      ],
      "execution_count": 45,
      "outputs": []
    },
    {
      "cell_type": "markdown",
      "metadata": {
        "id": "DwZzbE4iOvX_"
      },
      "source": [
        "Before we run the model on the training datasets, we compile the model in which we define various things like the loss function, the optimizer and the evaluation metric."
      ]
    },
    {
      "cell_type": "code",
      "metadata": {
        "id": "qFH451XaOvX_"
      },
      "source": [
        "nn_model.compile(loss='categorical_crossentropy', optimizer='adam', metrics=['accuracy'])"
      ],
      "execution_count": 46,
      "outputs": []
    },
    {
      "cell_type": "markdown",
      "metadata": {
        "id": "3tb7usxiOvX_"
      },
      "source": [
        "Now, to fit the model on the training input and training target dataset, we run the following command using a minibatch of size 10 and 10 epochs."
      ]
    },
    {
      "cell_type": "code",
      "metadata": {
        "id": "A9CGWxcJOvX_",
        "colab": {
          "base_uri": "https://localhost:8080/"
        },
        "outputId": "0af2ff74-9812-408d-be58-f342f8b19c05"
      },
      "source": [
        "nn_model.fit(train_set_x, train_set_y, epochs=10, batch_size=10)"
      ],
      "execution_count": 47,
      "outputs": [
        {
          "output_type": "stream",
          "name": "stdout",
          "text": [
            "Epoch 1/10\n",
            "5000/5000 [==============================] - 12s 2ms/step - loss: 0.4992 - accuracy: 0.8467\n",
            "Epoch 2/10\n",
            "5000/5000 [==============================] - 12s 2ms/step - loss: 0.3154 - accuracy: 0.9060\n",
            "Epoch 3/10\n",
            "5000/5000 [==============================] - 12s 2ms/step - loss: 0.2781 - accuracy: 0.9155\n",
            "Epoch 4/10\n",
            "5000/5000 [==============================] - 11s 2ms/step - loss: 0.2594 - accuracy: 0.9199\n",
            "Epoch 5/10\n",
            "5000/5000 [==============================] - 10s 2ms/step - loss: 0.2495 - accuracy: 0.9234\n",
            "Epoch 6/10\n",
            "5000/5000 [==============================] - 10s 2ms/step - loss: 0.2338 - accuracy: 0.9268\n",
            "Epoch 7/10\n",
            "5000/5000 [==============================] - 10s 2ms/step - loss: 0.2215 - accuracy: 0.9322\n",
            "Epoch 8/10\n",
            "5000/5000 [==============================] - 10s 2ms/step - loss: 0.2192 - accuracy: 0.9314\n",
            "Epoch 9/10\n",
            "5000/5000 [==============================] - 10s 2ms/step - loss: 0.2115 - accuracy: 0.9342\n",
            "Epoch 10/10\n",
            "5000/5000 [==============================] - 10s 2ms/step - loss: 0.2064 - accuracy: 0.9352\n"
          ]
        },
        {
          "output_type": "execute_result",
          "data": {
            "text/plain": [
              "<keras.callbacks.History at 0x7f9eeb649790>"
            ]
          },
          "metadata": {},
          "execution_count": 47
        }
      ]
    },
    {
      "cell_type": "code",
      "metadata": {
        "id": "GcciyfI1OvX_",
        "colab": {
          "base_uri": "https://localhost:8080/"
        },
        "outputId": "50130bb0-a282-4aa0-8dee-5b4c4e1f59bb"
      },
      "source": [
        "scores_train = nn_model.evaluate(train_set_x, train_set_y)\n",
        "print(\"\\n%s: %.2f%%\" % (nn_model.metrics_names[1], scores_train[1]*100))"
      ],
      "execution_count": 48,
      "outputs": [
        {
          "output_type": "stream",
          "name": "stdout",
          "text": [
            "1563/1563 [==============================] - 2s 1ms/step - loss: 0.0923 - accuracy: 0.9709\n",
            "\n",
            "accuracy: 97.09%\n"
          ]
        }
      ]
    },
    {
      "cell_type": "markdown",
      "metadata": {
        "id": "NPkqxapsOvX_"
      },
      "source": [
        "We can see that the model has ~ 97% accuracy on the training dataset."
      ]
    },
    {
      "cell_type": "markdown",
      "metadata": {
        "id": "D_XAZ8AFOvX_"
      },
      "source": [
        "Now, let's make predictions on the test dataset."
      ]
    },
    {
      "cell_type": "code",
      "metadata": {
        "id": "fJWT_occOvX_",
        "colab": {
          "base_uri": "https://localhost:8080/"
        },
        "outputId": "f34d2bf3-497d-4732-8f27-31c7294676e6"
      },
      "source": [
        "predictions = nn_model.predict(test_set_x)\n",
        "predictions = np.argmax(predictions, axis = 1)\n",
        "predictions"
      ],
      "execution_count": 49,
      "outputs": [
        {
          "output_type": "execute_result",
          "data": {
            "text/plain": [
              "array([3, 8, 6, ..., 5, 6, 8])"
            ]
          },
          "metadata": {},
          "execution_count": 49
        }
      ]
    },
    {
      "cell_type": "code",
      "metadata": {
        "id": "aIrh-QsFOvX_",
        "colab": {
          "base_uri": "https://localhost:8080/"
        },
        "outputId": "c8708394-eff8-473c-ac19-33391f2cc01c"
      },
      "source": [
        "scores_test = nn_model.evaluate(test_set_x, test_set_y)\n",
        "print(\"\\n%s: %.2f%%\" % (nn_model.metrics_names[1], scores_test[1]*100))"
      ],
      "execution_count": 50,
      "outputs": [
        {
          "output_type": "stream",
          "name": "stdout",
          "text": [
            "313/313 [==============================] - 0s 1ms/step - loss: 0.1272 - accuracy: 0.9644\n",
            "\n",
            "accuracy: 96.44%\n"
          ]
        }
      ]
    },
    {
      "cell_type": "markdown",
      "metadata": {
        "id": "a_fpTGriOvYA"
      },
      "source": [
        "We can see that the model has ~96% accuracy on the training dataset."
      ]
    },
    {
      "cell_type": "markdown",
      "metadata": {
        "id": "JZgTfQYBOvYA"
      },
      "source": [
        "Try and look at the different test cases and check which all have gone wrong. Feel free to change the index numbers."
      ]
    },
    {
      "cell_type": "code",
      "metadata": {
        "id": "JsB1mrsHOvYA",
        "colab": {
          "base_uri": "https://localhost:8080/",
          "height": 298
        },
        "outputId": "9b829cbc-2b7e-4f48-900c-9e98b58670a8"
      },
      "source": [
        "index  = 9997\n",
        "k = test_set_x[index, :]\n",
        "k = k.reshape((28, 28))\n",
        "plt.title('Label is {label}'.format(label=(predictions[index], np.argmax(test_set_y, axis = 1)[index])))\n",
        "plt.imshow(k, cmap='gray')"
      ],
      "execution_count": 51,
      "outputs": [
        {
          "output_type": "execute_result",
          "data": {
            "text/plain": [
              "<matplotlib.image.AxesImage at 0x7f9eeb4a7810>"
            ]
          },
          "metadata": {},
          "execution_count": 51
        },
        {
          "output_type": "display_data",
          "data": {
            "image/png": "[encoded data removed]",
            "text/plain": [
              "<Figure size 432x288 with 1 Axes>"
            ]
          },
          "metadata": {
            "needs_background": "light"
          }
        }
      ]
    }
  ]
}